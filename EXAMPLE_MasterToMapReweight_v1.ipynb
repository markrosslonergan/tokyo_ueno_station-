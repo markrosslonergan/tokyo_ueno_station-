{
 "cells": [
  {
   "cell_type": "code",
   "execution_count": 1,
   "id": "57568fc4",
   "metadata": {},
   "outputs": [
    {
     "name": "stdout",
     "output_type": "stream",
     "text": [
      "Volume of MicroBooNE,  85.36524536346\n"
     ]
    }
   ],
   "source": [
    "import uproot as up\n",
    "import matplotlib.pyplot as plt\n",
    "import awkward as ak\n",
    "import pandas as pd\n",
    "import h5py\n",
    "import numpy as np\n",
    "import time\n",
    "import dill\n",
    "import importlib\n",
    "import os\n",
    "import os.path\n",
    "\n",
    "import sys\n",
    "sys.path.insert(0, '/home/mark/work/DarkNu_Codebase_Nov2021/V4_2022/DarkNews-generator/examples')\n",
    "sys.path.insert(0,'src/')\n",
    "\n",
    "import DarkNews as dn\n",
    "from DarkNews import const\n",
    "from DarkNews.GenLauncher import GenLauncher\n",
    "import ToyAnalysis.analysis_decay as an\n",
    "\n",
    "\n",
    "#grab some local bits and bobs\n",
    "from gLEE_tools import *\n",
    "import MapBuilder as mb\n",
    "import MasterTools as mst\n",
    "\n",
    "#some additional info\n",
    "uboone_vol=((0.55+254.8)*(115.53+117.47)*(0.1+1036.9))*1.3836*1e-6\n",
    "print(\"Volume of MicroBooNE, \",uboone_vol) #-1.504115012818\n"
   ]
  },
  {
   "cell_type": "code",
   "execution_count": 2,
   "id": "4022cc83",
   "metadata": {},
   "outputs": [
    {
     "name": "stdout",
     "output_type": "stream",
     "text": [
      "Loading Master Oriringal files @  /home/mark/work/DarkNu_Codebase_Nov2021/workin_dir/MultiTop_Test_v4.0_FINAL_HOPE/SBNfit_files/\n",
      "Loading Master Original FIles @  /home/mark/work/DarkNu_Codebase_Nov2021/workin_dir/MultiTop_Test_v4.0_FINAL_HOPE/SBNfit_files/\n",
      "Loading master DataFrames from geenration\n",
      "benchmark correction factors are:  1.1866690240452618 1.180029368575624 1.200214592274678 1.1828676470588235\n"
     ]
    }
   ],
   "source": [
    "#Give your data dircetory that various required gLEE ntuples are in\n",
    "datadir =\"/home/mark/work/DarkNu_Codebase_Nov2021/workin_dir/MultiTop_Test_v4.0_FINAL_HOPE/SBNfit_files/\"\n",
    "#create the masterHelper object with a unique tag for bookeeping. This is regardless of binning.\n",
    "masterHelper = mst.MasterTools(datadir,\"testM1\")\n"
   ]
  },
  {
   "cell_type": "code",
   "execution_count": 7,
   "id": "67bc2fbe",
   "metadata": {},
   "outputs": [
    {
     "name": "stdout",
     "output_type": "stream",
     "text": [
      "Building map for testM1_BPA\n",
      "output will be at  datafiles_for_mapping/output_maps//testM1_BPA.hdf5 starting on mapBuilder Constructor\n",
      "run()\n",
      "build hdf5\n",
      "Not including Weights. self._data.shape:  (33559, 7)\n",
      "Done on  testM1_BPA\n",
      "Building map for testM1_BPD\n",
      "output will be at  datafiles_for_mapping/output_maps//testM1_BPD.hdf5 starting on mapBuilder Constructor\n",
      "run()\n",
      "build hdf5\n",
      "Not including Weights. self._data.shape:  (32144, 7)\n",
      "Done on  testM1_BPD\n",
      "Building map for testM1_BPC\n",
      "output will be at  datafiles_for_mapping/output_maps//testM1_BPC.hdf5 starting on mapBuilder Constructor\n",
      "run()\n",
      "build hdf5\n",
      "Not including Weights. self._data.shape:  (33558, 7)\n",
      "Done on  testM1_BPC\n",
      "Building map for testM1_BPD\n",
      "output will be at  datafiles_for_mapping/output_maps//testM1_BPD.hdf5 starting on mapBuilder Constructor\n",
      "run()\n",
      "build hdf5\n",
      "Not including Weights. self._data.shape:  (32174, 7)\n",
      "Done on  testM1_BPD\n",
      "loading master maps from  datafiles_for_mapping/output_maps/\n",
      "Now available to helper as self.map_X\n"
     ]
    }
   ],
   "source": [
    "#Pick a simple 7 dim binning\n",
    "simple_bins_energy_e_minus = [0,10] #np.linspace(0, 1.5, 20, endpoint=True) \n",
    "simple_bins_energy_sum = np.linspace(0, 2, 40, endpoint=True)\n",
    "simple_bins_delta_theta = np.linspace(0, 180, 40, endpoint=True)\n",
    "simple_bins_pz_p_e_plus = [-1,1]\n",
    "simple_bins_pz_p_e_minus = [-1,1]\n",
    "simple_bins_phi_e_minus = [-180,180] #np.linspace(-180, 180, 20, endpoint=True)\n",
    "simple_bins_pos_decay_z = np.linspace(-520, 520, 40, endpoint=True)\n",
    "\n",
    "\n",
    "simple_binning_scheme = (\n",
    "    simple_bins_energy_e_minus,\n",
    "    simple_bins_energy_sum,\n",
    "    simple_bins_delta_theta, \n",
    "    simple_bins_pz_p_e_plus, \n",
    "    simple_bins_pz_p_e_minus,\n",
    "    simple_bins_phi_e_minus,\n",
    "    simple_bins_pos_decay_z \n",
    ")\n",
    "\n",
    "#At this stage we assign the binning, and build the master maps. If you have them premade you can simply load them in the next line\n",
    "masterHelper.buildMasterMap(simple_binning_scheme, \"datafiles_for_mapping/output_maps/\")\n",
    "masterHelper.loadMasterMap(\"datafiles_for_mapping/output_maps/\")"
   ]
  },
  {
   "cell_type": "code",
   "execution_count": 9,
   "id": "a5746e7e",
   "metadata": {},
   "outputs": [],
   "source": [
    "\n",
    "#load a quick test. Precalculated Maps that we want to reproduce\n",
    "m_TPA = h5py.File(\"datafiles_for_mapping/TP_maps/TPA_v1.hdf5\", \"r\")\n",
    "m_TPP = h5py.File(\"datafiles_for_mapping/TP_maps/TPP_v1.hdf5\", \"r\")\n",
    "m_TPG = h5py.File(\"datafiles_for_mapping/TP_maps/TPG_v1.hdf5\", \"r\")\n",
    "m_TPD = h5py.File(\"datafiles_for_mapping/TP_maps/TPD_v1.hdf5\", \"r\")\n"
   ]
  },
  {
   "cell_type": "markdown",
   "id": "4ccb08b1",
   "metadata": {},
   "source": [
    "# doing actual reweight using masterhelper"
   ]
  },
  {
   "cell_type": "code",
   "execution_count": 10,
   "id": "94c5a973",
   "metadata": {},
   "outputs": [
    {
     "name": "stdout",
     "output_type": "stream",
     "text": [
      "Starting to reweight master map to target, weight name  m2TPP\n",
      "Apply the map took  134.3955795764923\n",
      "Some (possibly useful) info\n",
      "Outside Binning:  0\n",
      "Div by Zero:  0\n",
      "Zero:  9987\n",
      "Valid:  33246\n",
      "Mean Non-zero Weight:  0.003954171804680564\n",
      "Mean Weight:  0.0030407419290451746\n",
      "Starting to reweight master map to target, weight name  m2TPA\n",
      "Apply the map took  135.82576489448547\n",
      "Some (possibly useful) info\n",
      "Outside Binning:  0\n",
      "Div by Zero:  0\n",
      "Zero:  32896\n",
      "Valid:  10337\n",
      "Mean Non-zero Weight:  0.01169005583984295\n",
      "Mean Weight:  0.002795089566221557\n",
      "Starting to reweight master map to target, weight name  m2TPG\n",
      "Apply the map took  138.3793601989746\n",
      "Some (possibly useful) info\n",
      "Outside Binning:  0\n",
      "Div by Zero:  0\n",
      "Zero:  34372\n",
      "Valid:  8861\n",
      "Mean Non-zero Weight:  0.0015036321833021742\n",
      "Mean Weight:  0.0003081832113487513\n",
      "Starting to reweight master map to target, weight name  m2TPD\n",
      "Apply the map took  114.01448655128479\n",
      "Some (possibly useful) info\n",
      "Outside Binning:  0\n",
      "Div by Zero:  0\n",
      "Zero:  28299\n",
      "Valid:  14934\n",
      "Mean Non-zero Weight:  0.00392555533944182\n",
      "Mean Weight:  0.0013560068336507791\n"
     ]
    }
   ],
   "source": [
    "#As you ask for reweights, you populate the internal dataframe with new weights\n",
    "masterHelper.reweight(m_TPP,\"m2TPP\")\n",
    "masterHelper.reweight(m_TPA,\"m2TPA\")\n",
    "masterHelper.reweight(m_TPG,\"m2TPG\")\n",
    "result = masterHelper.reweight(m_TPD,\"m2TPD\")\n",
    "\n"
   ]
  },
  {
   "cell_type": "markdown",
   "id": "f9017a57",
   "metadata": {},
   "source": [
    "# This is where we Plot"
   ]
  },
  {
   "cell_type": "code",
   "execution_count": 12,
   "id": "6ad6ef20",
   "metadata": {},
   "outputs": [
    {
     "data": {
      "image/png": "[encoded data removed]",
      "text/plain": [
       "<Figure size 432x288 with 1 Axes>"
      ]
     },
     "metadata": {
      "needs_background": "light"
     },
     "output_type": "display_data"
    }
   ],
   "source": [
    "#To use the reweight we then simply plot our master DF with the according weight!\n",
    "\n",
    "esum_bins=np.linspace(0, 2.0, 20)\n",
    "plt.hist(result[\"true_energy_sum\"],bins=esum_bins, weights=1.0*result['m2TPP']*result[\"pass_selection\"], histtype=u'step', label='Master2TPP' )\n",
    "plt.hist(result[\"true_energy_sum\"],bins=esum_bins, weights=1.0*result['m2TPA']*result[\"pass_selection\"], histtype=u'step', label='Master2TPA' )\n",
    "plt.hist(result[\"true_energy_sum\"],bins=esum_bins, weights=1.0*result['m2TPG']*result[\"pass_selection\"], histtype=u'step', label='Master2TPG' )\n",
    "plt.hist(result[\"true_energy_sum\"],bins=esum_bins, weights=1.0*result['m2TPD']*result[\"pass_selection\"], histtype=u'step', label='Master2TPD' )\n",
    "plt.legend()\n",
    "plt.ylabel('Events/6.8e20 POT)')\n",
    "plt.xlabel('True Electron + Position Energy [GeV]')\n",
    "#plt.yscale('log')\n",
    "#plt.savefig('simple_test_truth_BPD_to_TPD.pdf')  \n",
    "plt.show()\n"
   ]
  },
  {
   "cell_type": "code",
   "execution_count": null,
   "id": "fd18b4d4",
   "metadata": {},
   "outputs": [],
   "source": []
  }
 ],
 "metadata": {
  "kernelspec": {
   "display_name": "pytorch_tot_3.10",
   "language": "python",
   "name": "pytorch_tot_3.10"
  },
  "language_info": {
   "codemirror_mode": {
    "name": "ipython",
    "version": 3
   },
   "file_extension": ".py",
   "mimetype": "text/x-python",
   "name": "python",
   "nbconvert_exporter": "python",
   "pygments_lexer": "ipython3",
   "version": "3.10.0"
  }
 },
 "nbformat": 4,
 "nbformat_minor": 5
}
